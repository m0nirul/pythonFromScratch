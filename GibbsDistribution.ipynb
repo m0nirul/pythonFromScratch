{
 "cells": [
  {
   "cell_type": "markdown",
   "metadata": {},
   "source": [
    "# Gibbs distribution"
   ]
  },
  {
   "cell_type": "code",
   "execution_count": 7,
   "metadata": {},
   "outputs": [],
   "source": [
    "#imports\n",
    "from __future__ import division\n",
    "from collections import *\n",
    "import math,random,re,requests"
   ]
  },
  {
   "cell_type": "code",
   "execution_count": 8,
   "metadata": {},
   "outputs": [],
   "source": [
    "def roll_a_die():\n",
    "    return random.choice([1,2,3,4,5,6])\n",
    "def direct_sample():\n",
    "    d1 = roll_a_die()\n",
    "    d2 = roll_a_die()\n",
    "    return d1, d1 + d2\n",
    "def random_y_given_x(x):\n",
    "    return x+roll_a_die()\n",
    "def random_x_given_y(y):\n",
    "    if y <= 7:\n",
    "        return random.randrange(1,y)\n",
    "    else:\n",
    "        return random.randrange(y-6,7)"
   ]
  },
  {
   "cell_type": "code",
   "execution_count": 9,
   "metadata": {},
   "outputs": [],
   "source": [
    "def gibbs_sample(num_iters =100):\n",
    "    x,y = 1,2\n",
    "    for _ in range(num_iters):\n",
    "        x = random_x_given_y(y)\n",
    "        y = random_y_given_x(x)\n",
    "    return x,y"
   ]
  },
  {
   "cell_type": "code",
   "execution_count": 10,
   "metadata": {},
   "outputs": [],
   "source": [
    "def compare_distributions(num_samples=1000):\n",
    "    counts = defaultdict(lambda: [0, 0])\n",
    "    for _ in range(num_samples):\n",
    "        counts[gibbs_sample()][0] += 1\n",
    "        counts[direct_sample()][1] += 1\n",
    "    return counts"
   ]
  },
  {
   "cell_type": "code",
   "execution_count": 11,
   "metadata": {},
   "outputs": [
    {
     "data": {
      "text/plain": [
       "defaultdict(<function __main__.compare_distributions.<locals>.<lambda>()>,\n",
       "            {(5, 11): [24, 24],\n",
       "             (1, 2): [36, 35],\n",
       "             (2, 5): [27, 23],\n",
       "             (3, 5): [24, 28],\n",
       "             (1, 7): [32, 29],\n",
       "             (6, 7): [24, 39],\n",
       "             (2, 7): [31, 35],\n",
       "             (5, 9): [31, 20],\n",
       "             (2, 3): [35, 25],\n",
       "             (3, 8): [24, 19],\n",
       "             (5, 7): [38, 19],\n",
       "             (4, 7): [22, 28],\n",
       "             (3, 4): [31, 35],\n",
       "             (4, 10): [29, 37],\n",
       "             (2, 6): [25, 33],\n",
       "             (4, 5): [29, 30],\n",
       "             (1, 4): [31, 31],\n",
       "             (2, 8): [36, 29],\n",
       "             (6, 8): [18, 28],\n",
       "             (4, 9): [32, 33],\n",
       "             (1, 3): [26, 30],\n",
       "             (5, 6): [30, 30],\n",
       "             (4, 8): [26, 25],\n",
       "             (6, 11): [28, 19],\n",
       "             (6, 12): [25, 26],\n",
       "             (5, 10): [28, 17],\n",
       "             (5, 8): [26, 22],\n",
       "             (6, 9): [26, 29],\n",
       "             (6, 10): [29, 29],\n",
       "             (3, 7): [24, 27],\n",
       "             (2, 4): [24, 28],\n",
       "             (1, 6): [30, 30],\n",
       "             (3, 9): [27, 26],\n",
       "             (3, 6): [26, 17],\n",
       "             (1, 5): [18, 37],\n",
       "             (4, 6): [28, 28]})"
      ]
     },
     "execution_count": 11,
     "metadata": {},
     "output_type": "execute_result"
    }
   ],
   "source": [
    "compare_distributions()"
   ]
  },
  {
   "cell_type": "code",
   "execution_count": null,
   "metadata": {},
   "outputs": [],
   "source": []
  }
 ],
 "metadata": {
  "kernelspec": {
   "display_name": "Python 3",
   "language": "python",
   "name": "python3"
  },
  "language_info": {
   "codemirror_mode": {
    "name": "ipython",
    "version": 3
   },
   "file_extension": ".py",
   "mimetype": "text/x-python",
   "name": "python",
   "nbconvert_exporter": "python",
   "pygments_lexer": "ipython3",
   "version": "3.7.2"
  }
 },
 "nbformat": 4,
 "nbformat_minor": 2
}
