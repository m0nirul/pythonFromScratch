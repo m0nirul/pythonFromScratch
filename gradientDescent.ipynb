{
 "cells": [
  {
   "cell_type": "markdown",
   "metadata": {},
   "source": [
    "# Gradient Descent"
   ]
  },
  {
   "cell_type": "code",
   "execution_count": 5,
   "metadata": {},
   "outputs": [],
   "source": [
    "from __future__ import division\n",
    "import math\n",
    "import random"
   ]
  },
  {
   "cell_type": "code",
   "execution_count": 11,
   "metadata": {},
   "outputs": [],
   "source": [
    "def step(v,direction,step_size):\n",
    "    return [v_i + (direction_i*step_size)\n",
    "           for v_i, direction_i in zip(v,direction)]\n",
    "\n",
    "def sum_of_squares_gradient(v):\n",
    "    return [2*v_i for v_i in v]\n",
    "\n",
    "def distance(v,w):\n",
    "    subtracted = [v_i - w_i for v_i, w_i in zip(v,w)]\n",
    "    return math.sqrt(sum([s_i **2 for s_i in subtracted]))"
   ]
  },
  {
   "cell_type": "code",
   "execution_count": 37,
   "metadata": {},
   "outputs": [
    {
     "name": "stdout",
     "output_type": "stream",
     "text": [
      "Optimised =>  [1.6392420853404806e-06, 3.688294692016085e-06, 2.868673649345841e-06]\n"
     ]
    }
   ],
   "source": [
    "v = [random.randint(-10,10) for _ in range(3)]\n",
    "tolerance = 0.0000001\n",
    "i = 0\n",
    "while True:\n",
    "#     print(\"Step => \",i,\" ==> \",v)\n",
    "    i = i+1\n",
    "    gradient = sum_of_squares_gradient(v);\n",
    "    next_v = step(v,gradient,-0.01)\n",
    "    if distance(v,next_v) < tolerance:\n",
    "        break\n",
    "    v = next_v\n",
    "print(\"Optimised => \",v)"
   ]
  },
  {
   "cell_type": "markdown",
   "metadata": {},
   "source": [
    "## Sometime we use a list of stepsizes to do the work"
   ]
  },
  {
   "cell_type": "code",
   "execution_count": 42,
   "metadata": {},
   "outputs": [],
   "source": [
    "def safe(f):\n",
    "    def safe_f(*args,**kwargs):\n",
    "        try:\n",
    "            return f(*args,**kwargs)\n",
    "        except:\n",
    "            return float('inf')\n",
    "    return safe_f\n",
    "\n",
    "def minimize_batch(target_fn,gradient_fn,theta_0,tolerance = 0.0000001):\n",
    "    step_sizes = [10 ** (2-i) for i in range(8)]\n",
    "    theta = theta_0\n",
    "    target_fn = safe(target_fn)\n",
    "    gradient_fn = safe(gradient_fn)\n",
    "    value = target_fn(theta)\n",
    "    \n",
    "    while True:\n",
    "        gradient = gradient_fn(theta)\n",
    "        next_thetas = [step(theta,gradient,-step_size) for step_size in step_sizes]\n",
    "        next_theta = min(next_thetas,key=target_fn)\n",
    "        next_value = target_fn(next_theta)\n",
    "        \n",
    "        if abs(next_value - value)< tolerance:\n",
    "            return theta\n",
    "        else:\n",
    "            theta,value = next_theta,next_value"
   ]
  },
  {
   "cell_type": "code",
   "execution_count": 43,
   "metadata": {},
   "outputs": [
    {
     "data": {
      "text/plain": [
       "[-4.3556142965880136e-05, -0.00013066842889764046, 0.0004355614296588014]"
      ]
     },
     "execution_count": 43,
     "metadata": {},
     "output_type": "execute_result"
    }
   ],
   "source": [
    "def target_function(v):\n",
    "    return sum([v_i **2 for v_i in v])\n",
    "minimize_batch(target_function,sum_of_squares_gradient,[random.randint(-10,10) for _ in range(3)])"
   ]
  },
  {
   "cell_type": "markdown",
   "metadata": {},
   "source": [
    "## Sometime we want to maximize a function(It would be `-ve` of minimum"
   ]
  },
  {
   "cell_type": "code",
   "execution_count": 44,
   "metadata": {},
   "outputs": [],
   "source": [
    "def negate(f):\n",
    "    return lambda *args,**kwargs: -f(*args,**kwargs)\n",
    "def negate_all(f):\n",
    "    # Needed when f returns a list(like in gradient descent)\n",
    "    return lambda *args,**kwargs: [-y for y in f(*args,**kwargs)]\n",
    "\n",
    "def maximize_batch(target_fn,gradient_fn,theta_0,tolerance = 0.0000001):\n",
    "    return minimize_batch(negate(target_fn),\n",
    "                         negate_all(gradient_fn),tolerance)"
   ]
  }
 ],
 "metadata": {
  "kernelspec": {
   "display_name": "Python 3",
   "language": "python",
   "name": "python3"
  },
  "language_info": {
   "codemirror_mode": {
    "name": "ipython",
    "version": 3
   },
   "file_extension": ".py",
   "mimetype": "text/x-python",
   "name": "python",
   "nbconvert_exporter": "python",
   "pygments_lexer": "ipython3",
   "version": "3.7.2"
  }
 },
 "nbformat": 4,
 "nbformat_minor": 2
}
