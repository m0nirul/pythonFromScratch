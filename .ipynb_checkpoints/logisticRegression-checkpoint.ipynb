{
 "cells": [
  {
   "cell_type": "markdown",
   "metadata": {},
   "source": [
    "# Logistic Regression\n"
   ]
  },
  {
   "cell_type": "code",
   "execution_count": 1,
   "metadata": {},
   "outputs": [],
   "source": [
    "from __future__ import division\n",
    "from functools import reduce,partial\n",
    "import math"
   ]
  },
  {
   "cell_type": "code",
   "execution_count": 2,
   "metadata": {},
   "outputs": [],
   "source": [
    "def vect_add(v,w):\n",
    "    return [v_i + w_i\n",
    "           for v_i,w_i in zip(v,w)]\n",
    "def dot(v,w):\n",
    "    return sum([v_i*w_i \n",
    "               for v_i,w_i in zip(v,w)])"
   ]
  },
  {
   "cell_type": "code",
   "execution_count": 5,
   "metadata": {},
   "outputs": [],
   "source": [
    "def logistic(x):\n",
    "    return 1/(1+math.exp(-x))\n",
    "def logistic_prime(x):\n",
    "    return logistic(x)*(1-logistic(x))\n",
    "def logistic_log_likelyhood_i(x_i,y_i,beta):\n",
    "    return y_i * math.log(logistic(dot(x_i,beta))) + (1-y_i) * math.log(1-logistic(dot(x_i,beta)))\n",
    "\n",
    "def logistic_log_likelyhood(x,y,beta):\n",
    "    return sum([logistic_log_likelyhood_i(x_i,y_i,beta)\n",
    "               for x_i,y_i in zip(x,y)])\n"
   ]
  },
  {
   "cell_type": "markdown",
   "metadata": {},
   "source": [
    "## Gradients"
   ]
  },
  {
   "cell_type": "code",
   "execution_count": 6,
   "metadata": {},
   "outputs": [],
   "source": [
    "def logistic_log_partial_ij(x_i,y_i,beta,j):\n",
    "    \"\"\"i, is the index of data point, j is the index f derivative (i.e. index of beta)\"\"\"\n",
    "    return (y_i,logistic(dot(x_i,beta)))*x_i[j]\n",
    "def logistic_log_gradient_i(x_i,y_i,beta):\n",
    "    return [logistic_log_partial_ij(x_i,y_i,beta,j)\n",
    "           for j,_ in enumerate(beta)]\n",
    "def logistic_log_gradient(x,y,beta):\n",
    "    return reduce(vect_add,\n",
    "                  [logistic_log_gradient_i(x_i,y_i,beta)\n",
    "                  for x_i,y_i in zip(x,y)])\n"
   ]
  },
  {
   "cell_type": "markdown",
   "metadata": {},
   "source": [
    "##  Now we got all the functions needed for Logistic regression\n",
    "Now use normal optimization functions to do the train,predict and test"
   ]
  },
  {
   "cell_type": "code",
   "execution_count": null,
   "metadata": {},
   "outputs": [],
   "source": []
  }
 ],
 "metadata": {
  "kernelspec": {
   "display_name": "Python 3",
   "language": "python",
   "name": "python3"
  },
  "language_info": {
   "codemirror_mode": {
    "name": "ipython",
    "version": 3
   },
   "file_extension": ".py",
   "mimetype": "text/x-python",
   "name": "python",
   "nbconvert_exporter": "python",
   "pygments_lexer": "ipython3",
   "version": "3.7.2"
  }
 },
 "nbformat": 4,
 "nbformat_minor": 2
}
