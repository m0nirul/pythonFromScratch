{
 "cells": [
  {
   "cell_type": "code",
   "execution_count": 12,
   "metadata": {},
   "outputs": [
    {
     "name": "stdout",
     "output_type": "stream",
     "text": [
      "720\n"
     ]
    }
   ],
   "source": [
    "from functools import reduce\n",
    "xs = [1,2,3,4,5,6]\n",
    "\n",
    "def funct1(x,y):\n",
    "#     print(x,y)\n",
    "    return x*y\n",
    "x_product = reduce(funct1,xs)\n",
    "print(x_product)"
   ]
  },
  {
   "cell_type": "markdown",
   "metadata": {},
   "source": [
    "### In addition to this please try to solve exampe for the following topic\n",
    "- map\n",
    "- filter\n",
    "- reduce\n",
    "- enumerate\n",
    "- zip\n",
    "- *args\n",
    "- **kwargs\n",
    "\n",
    "###### As these are simple topic please feel free to explore"
   ]
  }
 ],
 "metadata": {
  "kernelspec": {
   "display_name": "Python 3",
   "language": "python",
   "name": "python3"
  },
  "language_info": {
   "codemirror_mode": {
    "name": "ipython",
    "version": 3
   },
   "file_extension": ".py",
   "mimetype": "text/x-python",
   "name": "python",
   "nbconvert_exporter": "python",
   "pygments_lexer": "ipython3",
   "version": "3.7.2"
  }
 },
 "nbformat": 4,
 "nbformat_minor": 2
}
