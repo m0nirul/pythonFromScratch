{
 "cells": [
  {
   "cell_type": "markdown",
   "metadata": {},
   "source": [
    "## Linear algebra operations\n",
    "\n",
    "###### Addition & subtraction of two vectors"
   ]
  },
  {
   "cell_type": "code",
   "execution_count": 11,
   "metadata": {},
   "outputs": [],
   "source": [
    "from functools import reduce,partial\n",
    "import math"
   ]
  },
  {
   "cell_type": "code",
   "execution_count": 5,
   "metadata": {},
   "outputs": [],
   "source": [
    "def vector_add(v,w):\n",
    "    return [v_i+w_i for v_i,w_i in zip(v,w)]\n",
    "\n",
    "def vector_subtraction(v,w):\n",
    "    return [v_i - w_i for v_i,w_i in zip(v,w)]"
   ]
  },
  {
   "cell_type": "markdown",
   "metadata": {},
   "source": [
    "###### Summing all the vectors"
   ]
  },
  {
   "cell_type": "code",
   "execution_count": 6,
   "metadata": {},
   "outputs": [],
   "source": [
    "vector_sum = partial(reduce,vector_add)  # Function defination only"
   ]
  },
  {
   "cell_type": "markdown",
   "metadata": {},
   "source": [
    "###### Scalar multiply"
   ]
  },
  {
   "cell_type": "code",
   "execution_count": 7,
   "metadata": {},
   "outputs": [],
   "source": [
    "def scalar_multiply(c,v):\n",
    "    return [c*v_i for v_i in v]"
   ]
  },
  {
   "cell_type": "markdown",
   "metadata": {},
   "source": [
    "###### Vector mean"
   ]
  },
  {
   "cell_type": "code",
   "execution_count": 8,
   "metadata": {},
   "outputs": [],
   "source": [
    "def vector_mean(vectors):\n",
    "    n = len(vectors)\n",
    "    return scalar_multiply(1/n, vector_sum(vectors))"
   ]
  },
  {
   "cell_type": "markdown",
   "metadata": {},
   "source": [
    "###### Dot product\n",
    "Sum of vectors component wise product"
   ]
  },
  {
   "cell_type": "code",
   "execution_count": 10,
   "metadata": {},
   "outputs": [],
   "source": [
    "def dot(v,w):\n",
    "    return sum([v_i*w_i for v_i,w_i in zip(v,w)])"
   ]
  },
  {
   "cell_type": "markdown",
   "metadata": {},
   "source": [
    "###### Some othe vector functions"
   ]
  },
  {
   "cell_type": "code",
   "execution_count": 12,
   "metadata": {},
   "outputs": [],
   "source": [
    "def sum_of_squares(v):\n",
    "    return dot(v,v)\n",
    "\n",
    "def magnitude(v):\n",
    "    return math.sqrt(sum_of_squares(v))\n",
    "\n",
    "def squared_distance(v,w):\n",
    "    return sum_of_squares(vector_subtraction(v,w))\n",
    "def distance(v,w):\n",
    "    return math.sqrt(squared_distance)"
   ]
  },
  {
   "cell_type": "markdown",
   "metadata": {},
   "source": [
    "## Week 1 Quiz - Introduction to deep learning\n",
    "\n",
    "1. What does the analogy “AI is the new electricity” refer to?\n",
    "\n",
    "    - [ ] AI is powering personal devices in our homes and offices, similar to electricity.\n",
    "    - [ ] Through the “smart grid”, AI is delivering a new wave of electricity.\n",
    "    - [ ] AI runs on computers and is thus powered by electricity, but it is letting computers do things not possible before.\n",
    "    - [x] Similar to electricity starting about 100 years ago, AI is transforming multiple industries.\n",
    "    \n",
    "    Note: Andrew illustrated the same idea in the lecture.\n",
    "\n",
    "2. Which of these are reasons for Deep Learning recently taking off? (Check the two options that apply.)\n",
    "\n",
    "    - [x] We have access to a lot more computational power.\n",
    "    - [ ] Neural Networks are a brand new field.\n",
    "    - [x] We have access to a lot more data.\n",
    "    - [ ] Deep learning has resulted in significant improvements in important applications such as online advertising, speech recognition, and image recognition.\n",
    "    \n",
    "3. Recall this diagram of iterating over different ML ideas. Which of the statements below are true? (Check all that apply.)\n",
    "\n",
    "    - [x] Being able to try out ideas quickly allows deep learning engineers to iterate more quickly.\n",
    "    - [x] Faster computation can help speed up how long a team takes to iterate to a good idea. \n",
    "    - [ ] It is faster to train on a big dataset than a small dataset.\n",
    "    - [x] Recent progress in deep learning algorithms has allowed us to train good models faster (even without changing the CPU/GPU hardware).\n",
    "\n",
    "    Note: A bigger dataset generally requires more time to train on a same model.\n",
    "\n",
    "4. When an experienced deep learning engineer works on a new problem, they can usually use insight from previous problems to train a good model on the first try, without needing to iterate multiple times through different models. True/False?\n",
    "\n",
    "    - [ ] True\n",
    "    - [x] False\n",
    "    \n",
    "    Note: Maybe some experience may help, but nobody can always find the best model or hyperparameters without iterations. \n",
    "\n",
    "5. Which one of these plots represents a ReLU activation function?\n",
    "\n",
    "    - Check [here](https://en.wikipedia.org/wiki/Rectifier_(neural_networks)).\n",
    "    \n",
    "6. Images for cat recognition is an example of “structured” data, because it is represented as a structured array in a computer. True/False?\n",
    "    \n",
    "    - [ ] True\n",
    "    - [x] False\n",
    "    \n",
    "7. A demographic dataset with statistics on different cities' population, GDP per capita, economic growth is an example of “unstructured” data because it contains data coming from different sources. True/False?\n",
    "    \n",
    "    - [ ] True\n",
    "    - [x] False\n",
    "    \n",
    "8. Why is an RNN (Recurrent Neural Network) used for machine translation, say translating English to French? (Check all that apply.)\n",
    "\n",
    "    - [x] It can be trained as a supervised learning problem.\n",
    "    - [ ] It is strictly more powerful than a Convolutional Neural Network (CNN).\n",
    "    - [x] It is applicable when the input/output is a sequence (e.g., a sequence of words).\n",
    "    - [ ] RNNs represent the recurrent process of Idea->Code->Experiment->Idea->....\n",
    "    \n",
    "9. In this diagram which we hand-drew in lecture, what do the horizontal axis (x-axis) and vertical axis (y-axis) represent?\n",
    "\n",
    "    - x-axis is the amount of data\n",
    "    - y-axis (vertical axis) is the performance of the algorithm.\n",
    "\n",
    "10. Assuming the trends described in the previous question's figure are accurate (and hoping you got the axis labels right), which of the following are true? (Check all that apply.)\n",
    "\n",
    "    - [x] Increasing the training set size generally does not hurt an algorithm’s performance, and it may help significantly.\n",
    "    - [x] Increasing the size of a neural network generally does not hurt an algorithm’s performance, and it may help significantly.\n",
    "    - [ ] Decreasing the training set size generally does not hurt an algorithm’s performance, and it may help significantly.\n",
    "    - [ ] Decreasing the size of a neural network generally does not hurt an algorithm’s performance, and it may help significantly.\n"
   ]
  },
  {
   "cell_type": "code",
   "execution_count": null,
   "metadata": {},
   "outputs": [],
   "source": []
  }
 ],
 "metadata": {
  "kernelspec": {
   "display_name": "Python 3",
   "language": "python",
   "name": "python3"
  },
  "language_info": {
   "codemirror_mode": {
    "name": "ipython",
    "version": 3
   },
   "file_extension": ".py",
   "mimetype": "text/x-python",
   "name": "python",
   "nbconvert_exporter": "python",
   "pygments_lexer": "ipython3",
   "version": "3.7.2"
  }
 },
 "nbformat": 4,
 "nbformat_minor": 2
}
