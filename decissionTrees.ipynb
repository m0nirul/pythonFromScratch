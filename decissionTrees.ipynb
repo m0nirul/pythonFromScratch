{
 "cells": [
  {
   "cell_type": "markdown",
   "metadata": {},
   "source": [
    "# Decission Tree"
   ]
  },
  {
   "cell_type": "code",
   "execution_count": 23,
   "metadata": {},
   "outputs": [],
   "source": [
    "from __future__ import division\n",
    "from functools import reduce,partial\n",
    "from collections import *\n",
    "import math"
   ]
  },
  {
   "cell_type": "code",
   "execution_count": 12,
   "metadata": {},
   "outputs": [],
   "source": [
    "def entropy(class_probabilities):\n",
    "    return sum([-p * math.log(p,2)\n",
    "               for p in class_probabilities if p])"
   ]
  },
  {
   "cell_type": "code",
   "execution_count": 13,
   "metadata": {},
   "outputs": [],
   "source": [
    "def class_probabilities(labels):\n",
    "    total_count = len(labels)\n",
    "    return [count/total_count\n",
    "           for count in Counter(labels).values()]\n",
    "def data_entropy(labellled_data):\n",
    "    labels = [label for _,label in labellled_data]\n",
    "    probabilities = class_probabilities(labels)\n",
    "    return entropy(probabilities)\n",
    "\n",
    "def partition_entropy(subsets):\n",
    "    total_count = sum(len(subset) for subset in subsets)\n",
    "    return sum(data_entropy(subset) * len(subset)/total_count\n",
    "              for subset in subsets)"
   ]
  },
  {
   "cell_type": "code",
   "execution_count": null,
   "metadata": {},
   "outputs": [],
   "source": []
  },
  {
   "cell_type": "code",
   "execution_count": 35,
   "metadata": {},
   "outputs": [],
   "source": [
    "inputs = [\n",
    "({\"level\":\"Senior\", \"lang\":\"Java\", \"tweets\":\"no\", \"phd\":\"no\"}, False),\n",
    "({\"level\":\"Senior\", \"lang\":\"Java\", \"tweets\":\"no\", \"phd\":\"yes\"}, False),\n",
    "({\"level\":\"Mid\", \"lang\":\"Python\", \"tweets\":\"no\", \"phd\":\"no\"}, True),\n",
    "({\"level\":\"Junior\", \"lang\":\"Python\", \"tweets\":\"no\", \"phd\":\"no\"}, True),\n",
    "({\"level\":\"Junior\", \"lang\":\"R\", \"tweets\":\"yes\", \"phd\":\"no\"}, True),\n",
    "({\"level\":\"Junior\", \"lang\":\"R\", \"tweets\":\"yes\", \"phd\":\"yes\"}, False),\n",
    "({\"level\":\"Mid\", \"lang\":\"R\", \"tweets\":\"yes\", \"phd\":\"yes\"}, True),\n",
    "({\"level\":\"Senior\", \"lang\":\"Python\", \"tweets\":\"no\", \"phd\":\"no\"}, False),\n",
    "({\"level\":\"Senior\", \"lang\":\"R\", \"tweets\":\"yes\", \"phd\":\"no\"}, True),\n",
    "({\"level\":\"Junior\", \"lang\":\"Python\", \"tweets\":\"yes\", \"phd\":\"no\"}, True),\n",
    "({\"level\":\"Senior\", \"lang\":\"Python\", \"tweets\":\"yes\", \"phd\":\"yes\"}, True),\n",
    "({\"level\":\"Mid\", \"lang\":\"Python\", \"tweets\":\"no\", \"phd\":\"yes\"}, True),\n",
    "({\"level\":\"Mid\", \"lang\":\"Java\", \"tweets\":\"yes\", \"phd\":\"no\"}, True),\n",
    "({\"level\":\"Junior\", \"lang\":\"Python\", \"tweets\":\"no\", \"phd\":\"yes\"}, False)\n",
    "]"
   ]
  },
  {
   "cell_type": "code",
   "execution_count": 42,
   "metadata": {},
   "outputs": [],
   "source": [
    "# print(inputs)\n",
    "def partition_by(inputs,attribute):\n",
    "    groups = defaultdict(list)\n",
    "    for input in inputs:\n",
    "        key = input[0][attribute]\n",
    "        groups[key].append(input)\n",
    "    return groups\n",
    "\n",
    "def partition_entropy_by(inputs,attribute):\n",
    "    partitions = partition_by(inputs,attribute)\n",
    "    return partition_entropy(partitions.values())\n",
    "\n",
    "# partition_entropy_by(inputs,'level')"
   ]
  },
  {
   "cell_type": "code",
   "execution_count": 44,
   "metadata": {},
   "outputs": [
    {
     "name": "stdout",
     "output_type": "stream",
     "text": [
      "level => 0.6935361388961919\n",
      "lang => 0.8601317128547441\n",
      "tweets => 0.7884504573082896\n",
      "phd => 0.8921589282623617\n"
     ]
    }
   ],
   "source": [
    "for key in ['level','lang','tweets','phd']:\n",
    "    print(key,\"=>\",partition_entropy_by(inputs,key))"
   ]
  },
  {
   "cell_type": "markdown",
   "metadata": {},
   "source": [
    "### Let's generalize the things\n",
    "We will try to build a tree just like this\n",
    "\n",
    "``\n",
    "('level',{\n",
    "    'Junior': ('phd', {'no': True, 'yes': False}),\n",
    "    'Mid': True,\n",
    "    'Senior': ('tweets', {'no': False, 'yes': True})\n",
    "})``"
   ]
  },
  {
   "cell_type": "code",
   "execution_count": 45,
   "metadata": {},
   "outputs": [],
   "source": [
    "def classify(tree,input):\n",
    "    #Check if leaf node\n",
    "    if tree in [True,False]:\n",
    "        return tree\n",
    "    attribute,subtree_dict = tree\n",
    "    subtree_key = input.get(attribute)\n",
    "    if subtree_key not in subtree_dict:\n",
    "        subtree_key = None\n",
    "    subtree = subtree_dict[subtree_key]\n",
    "    return classify(subtree,input)\n",
    "    "
   ]
  },
  {
   "cell_type": "code",
   "execution_count": 60,
   "metadata": {},
   "outputs": [],
   "source": [
    "# FORMATION of the TREE\n",
    "def build_tree_id3(inputs,split_candidates = None):\n",
    "    if split_candidates is None:\n",
    "        split_candidates = inputs[0][0].keys()\n",
    "    num_inputs = len(inputs)\n",
    "    num_trues = len([label for _,label in inputs if label])\n",
    "    num_false = num_inputs - num_trues\n",
    "    if num_trues == 0: return False\n",
    "    if num_false ==0 : return True\n",
    "\n",
    "    if not split_candidates:\n",
    "        return num_trues >= num_false\n",
    "    best_attribute = min(split_candidates,key = partial(partition_entropy_by,inputs))\n",
    "    partitions = partition_by(inputs,best_attribute)\n",
    "    new_candidates = [a for a in split_candidates if a != best_attribute]\n",
    "    sub_trees = {attribute_value:build_tree_id3(subset,new_candidates)\n",
    "                for attribute_value,subset in partitions.items()}\n",
    "    sub_trees[None] = num_trues >= num_false\n",
    "    return (best_attribute,sub_trees)"
   ]
  },
  {
   "cell_type": "code",
   "execution_count": 62,
   "metadata": {},
   "outputs": [
    {
     "data": {
      "text/plain": [
       "True"
      ]
     },
     "execution_count": 62,
     "metadata": {},
     "output_type": "execute_result"
    }
   ],
   "source": [
    "tree = build_tree_id3(inputs)\n",
    "classify(tree,{ \"level\" : \"Junior\",\n",
    "\"lang\" : \"Java\",\n",
    "\"tweets\" : \"yes\",\n",
    "\"phd\" : \"no\"})"
   ]
  },
  {
   "cell_type": "code",
   "execution_count": null,
   "metadata": {},
   "outputs": [],
   "source": []
  }
 ],
 "metadata": {
  "kernelspec": {
   "display_name": "Python 3",
   "language": "python",
   "name": "python3"
  },
  "language_info": {
   "codemirror_mode": {
    "name": "ipython",
    "version": 3
   },
   "file_extension": ".py",
   "mimetype": "text/x-python",
   "name": "python",
   "nbconvert_exporter": "python",
   "pygments_lexer": "ipython3",
   "version": "3.7.2"
  }
 },
 "nbformat": 4,
 "nbformat_minor": 2
}
