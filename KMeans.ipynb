{
 "cells": [
  {
   "cell_type": "markdown",
   "metadata": {},
   "source": [
    "# KMeans clusturing\n",
    "There are several methods to do it we will follow the iterative method\n",
    ">1. Start with a set of k-means, which are points in d-dimensional space\n",
    "2. Assign each point to the mean to which it is closest.\n",
    "3. If no point’s assignment has changed, stop and keep the clusters.\n",
    "4. If some point’s assignment has changed, recompute the means and return to step 2."
   ]
  },
  {
   "cell_type": "code",
   "execution_count": 19,
   "metadata": {},
   "outputs": [],
   "source": [
    "#imports\n",
    "from __future__ import division\n",
    "from functools import reduce,partial\n",
    "\n",
    "import math,random\n",
    "import matplotlib.image as mpimg\n",
    "import matplotlib.pyplot as plt\n"
   ]
  },
  {
   "cell_type": "code",
   "execution_count": 11,
   "metadata": {},
   "outputs": [],
   "source": [
    "def vector_add(v,w):\n",
    "    return [v_i+w_i for v_i,w_i in zip(v,w)]\n",
    "\n",
    "def vector_subtraction(v,w):\n",
    "    return [v_i - w_i for v_i,w_i in zip(v,w)]\n",
    "vector_sum = partial(reduce,vector_add)\n",
    "def scalar_multiply(c,v):\n",
    "    return [c*v_i for v_i in v]\n",
    "def vector_mean(vectors):\n",
    "    n = len(vectors)\n",
    "    return scalar_multiply(1/n, vector_sum(vectors))\n",
    "def squared_distance(v,w):\n",
    "    return sum([(v_i - w_i)**2\n",
    "               for v_i,w_i in zip(v,w)])\n",
    "def distance(v,w):\n",
    "    return math.sqrt(squared_distance(v,w))"
   ]
  },
  {
   "cell_type": "code",
   "execution_count": 12,
   "metadata": {},
   "outputs": [],
   "source": [
    "class KMeans:\n",
    "    def __init__(self,k):\n",
    "        self.k = k\n",
    "        self.means = None\n",
    "    def classify(self,input):\n",
    "        return min(range(self.k),key=lambda i: squared_distance(input,self.means[i]))\n",
    "    def train(self,inputs):\n",
    "        self.means = random.sample(inputs,self.k)\n",
    "        assignments = None\n",
    "        while True:\n",
    "            new_assignments = list(map(self.classify,inputs))\n",
    "            if assignments == new_assignments:\n",
    "                return\n",
    "            assignments = new_assignments\n",
    "            \n",
    "            for i in range(self.k):\n",
    "                i_points = [p for p,a in zip(inputs,assignments) if a == i]\n",
    "                if i_points:\n",
    "                    self.means[i] = vector_mean(i_points)"
   ]
  },
  {
   "cell_type": "code",
   "execution_count": 56,
   "metadata": {},
   "outputs": [
    {
     "name": "stdout",
     "output_type": "stream",
     "text": [
      "3-means:\n",
      "[[-25.857142857142854, -4.714285714285714], [20.0, 26.0], [16.666666666666664, 13.666666666666666]]\n",
      "\n"
     ]
    },
    {
     "data": {
      "image/png": "[encoded data removed]",
      "text/plain": [
       "<Figure size 432x288 with 1 Axes>"
      ]
     },
     "metadata": {
      "needs_background": "light"
     },
     "output_type": "display_data"
    }
   ],
   "source": [
    "inputs = [[-14,-5],[13,13],[20,23],[-19,-11],[-9,-16],[21,27],[-49,15],[26,13],[-46,5],[-34,-1],[11,15],[-49,0],[-22,-16],[19,28],[-12,-8],[-13,-19],[-41,8],[-11,-6],[-25,-9],[-18,-3]]\n",
    "inputs_x = [x[0] for x in inputs]\n",
    "inputs_y = [x[1] for x in inputs]\n",
    "plt.scatter(inputs_x,inputs_y)\n",
    "random.seed(0) \n",
    "clusterer = KMeans(3)\n",
    "clusterer.train(inputs)\n",
    "print(\"3-means:\")\n",
    "print(clusterer.means)\n",
    "print()"
   ]
  },
  {
   "cell_type": "code",
   "execution_count": 82,
   "metadata": {},
   "outputs": [
    {
     "data": {
      "image/png": "[encoded data removed]",
      "text/plain": [
       "<Figure size 432x288 with 1 Axes>"
      ]
     },
     "metadata": {
      "needs_background": "light"
     },
     "output_type": "display_data"
    }
   ],
   "source": [
    "assignment = list(map(clusterer.classify,inputs))\n",
    "outputs = []\n",
    "# outputs_0 = [x for x,a in zip(inputs,assignment) if a==0]\n",
    "def print_a_list(inputs,marker,label):\n",
    "    inputs_x = [x[0] for x in inputs]\n",
    "    inputs_y = [x[1] for x in inputs]\n",
    "    plt.scatter(inputs_x,inputs_y,marker=marker,label=label)\n",
    "for k in range(clusterer.k):\n",
    "    outputs.append((k,[x for x,a in zip(inputs,assignment) if a==k]))\n",
    "# print(outputs)\n",
    "markers = [\"o\",\"v\",\"s\"]\n",
    "k_mark = 0\n",
    "for output in outputs:\n",
    "    print_a_list(output[1],markers[k_mark],output[0])\n",
    "    k_mark += 1\n",
    "plt.legend(loc='upper center')\n",
    "plt.show()"
   ]
  },
  {
   "cell_type": "code",
   "execution_count": 14,
   "metadata": {},
   "outputs": [],
   "source": [
    "def squared_clustering_errors(inputs,k):\n",
    "    clusterer = KMeans(k)\n",
    "    clusterer.train(inputs)\n",
    "    means = clusterer.means\n",
    "    assignment = list(map(clusterer.classify,inputs))\n",
    "    \n",
    "    return sum(squared_distance(input,means[cluster])\n",
    "              for input,cluster in zip(inputs,assignment))"
   ]
  },
  {
   "cell_type": "code",
   "execution_count": 26,
   "metadata": {},
   "outputs": [
    {
     "data": {
      "image/png": "[encoded data removed]",
      "text/plain": [
       "<Figure size 432x288 with 1 Axes>"
      ]
     },
     "metadata": {
      "needs_background": "light"
     },
     "output_type": "display_data"
    }
   ],
   "source": [
    "ks = range(1,len(inputs)+1)\n",
    "errors = [squared_clustering_errors(inputs,i)\n",
    "         for i in ks]\n",
    "plt.plot(ks,errors)\n",
    "plt.xticks(ks)\n",
    "plt.xlabel(\"k\")\n",
    "plt.ylabel(\"Total squared error\")\n",
    "plt.title(\"K vs total squared error\")\n",
    "plt.show()"
   ]
  },
  {
   "cell_type": "markdown",
   "metadata": {},
   "source": [
    "# Colour clustering using KMeans"
   ]
  },
  {
   "cell_type": "code",
   "execution_count": 39,
   "metadata": {},
   "outputs": [],
   "source": [
    "path_to_png_file = r\".\\images\\kmeans.png\" # wherever your image is\n",
    "img = mpimg.imread(path_to_png_file)"
   ]
  },
  {
   "cell_type": "code",
   "execution_count": 40,
   "metadata": {},
   "outputs": [],
   "source": [
    "pixels = [pixel for row in img\n",
    "         for pixel in row]\n"
   ]
  },
  {
   "cell_type": "code",
   "execution_count": 41,
   "metadata": {},
   "outputs": [],
   "source": [
    "clusterer = KMeans(5)\n",
    "clusterer.train(pixels)"
   ]
  },
  {
   "cell_type": "code",
   "execution_count": 43,
   "metadata": {},
   "outputs": [
    {
     "name": "stdout",
     "output_type": "stream",
     "text": [
      "[[0.15993705263473104, 0.3000287788640519, 0.1093969315681723, 1.0], [0.914748236677116, 0.7741049561968204, 0.8098945504926108, 1.0], [0.8810171569464168, 0.7549537023603069, 0.029050060669772095, 1.0], [0.757603478880246, 0.26558743084448866, 0.22180033277556682, 1.0], [0.08185632375967823, 0.3672890144308614, 0.7243879464679993, 1.0]]\n"
     ]
    },
    {
     "data": {
      "image/png": "[encoded data removed]",
      "text/plain": [
       "<Figure size 432x288 with 1 Axes>"
      ]
     },
     "metadata": {
      "needs_background": "light"
     },
     "output_type": "display_data"
    }
   ],
   "source": [
    "print(clusterer.means)\n",
    "def recolor(pixel):\n",
    "    cluster = clusterer.classify(pixel)\n",
    "    return clusterer.means[cluster]\n",
    "new_img = [[recolor(pixel) for pixel in row]\n",
    "          for row in img]\n",
    "plt.imshow(new_img)\n",
    "plt.axis('off')\n",
    "plt.show()"
   ]
  },
  {
   "cell_type": "code",
   "execution_count": null,
   "metadata": {},
   "outputs": [],
   "source": [
    "    "
   ]
  }
 ],
 "metadata": {
  "kernelspec": {
   "display_name": "Python 3",
   "language": "python",
   "name": "python3"
  },
  "language_info": {
   "codemirror_mode": {
    "name": "ipython",
    "version": 3
   },
   "file_extension": ".py",
   "mimetype": "text/x-python",
   "name": "python",
   "nbconvert_exporter": "python",
   "pygments_lexer": "ipython3",
   "version": "3.7.2"
  }
 },
 "nbformat": 4,
 "nbformat_minor": 2
}
