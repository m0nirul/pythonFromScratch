{
 "cells": [
  {
   "cell_type": "markdown",
   "metadata": {},
   "source": [
    "# Naive Bayes"
   ]
  },
  {
   "cell_type": "code",
   "execution_count": 33,
   "metadata": {},
   "outputs": [],
   "source": [
    "from __future__ import division\n",
    "from collections import Counter, defaultdict\n",
    "import math, random, re, glob"
   ]
  },
  {
   "cell_type": "code",
   "execution_count": 34,
   "metadata": {},
   "outputs": [],
   "source": [
    "def split_data(data, prob):\n",
    "    \"\"\"split data into fractions [prob, 1 - prob]\"\"\"\n",
    "    results = [], []\n",
    "    for row in data:\n",
    "        results[0 if random.random() < prob else 1].append(row)\n",
    "    return results"
   ]
  },
  {
   "cell_type": "code",
   "execution_count": 35,
   "metadata": {},
   "outputs": [],
   "source": [
    "def tokenize(message):\n",
    "    message = message.lower()\n",
    "    all_words = re.findall(\"[a-z0-9']+\",message)\n",
    "#     print(all_words)\n",
    "    return set(all_words)"
   ]
  },
  {
   "cell_type": "code",
   "execution_count": 36,
   "metadata": {},
   "outputs": [],
   "source": [
    "def count_words(training_set):\n",
    "    counts = defaultdict(lambda: [0,0])\n",
    "    for msg,is_spam in training_set:\n",
    "        for word in tokenize(msg):\n",
    "            counts[word][0 if is_spam else 1] += 1\n",
    "    return counts"
   ]
  },
  {
   "cell_type": "code",
   "execution_count": 59,
   "metadata": {},
   "outputs": [],
   "source": [
    "def cal_prob(s,k,ts):\n",
    "    return (s+k)/(2*k + ts)\n",
    "def word_probabilities(counts,total_spams, total_non_spams,k = 0.5):\n",
    "    return [(w,\n",
    "             cal_prob(spam,k,total_spams),\n",
    "            cal_prob(non_spam,k,total_non_spams))\n",
    "           for w,(spam,non_spam) in counts.items()]"
   ]
  },
  {
   "cell_type": "code",
   "execution_count": 60,
   "metadata": {},
   "outputs": [],
   "source": [
    "def spam_probability(word_probs,msg):\n",
    "    messages_words = tokenize(msg)\n",
    "    log_prob_if_spam = log_prob_if_not_spam = 0\n",
    "    \n",
    "    for word,prob_if_spam,prob_if_non_spam in word_probs:\n",
    "        if word in messages_words:\n",
    "            log_prob_if_spam += math.log(prob_if_spam)\n",
    "            log_prob_if_not_spam += math.log(prob_if_non_spam)\n",
    "        else:\n",
    "            log_prob_if_spam += math.log(1-prob_if_spam)\n",
    "            log_prob_if_not_spam += math.log(1-prob_if_non_spam)\n",
    "    prob_if_spam = math.exp(log_prob_if_spam)\n",
    "    prob_if_not_spam = math.exp(log_prob_if_not_spam)\n",
    "    \n",
    "    return prob_if_spam/(prob_if_spam + prob_if_not_spam)"
   ]
  },
  {
   "cell_type": "code",
   "execution_count": 61,
   "metadata": {},
   "outputs": [],
   "source": [
    "# k_main \n",
    "class NaiveBayesClassifier:\n",
    "    def __init__(self,k=0.5):\n",
    "        self.k = k\n",
    "        self.wordprobs = []\n",
    "    def train(self,training_set):\n",
    "        num_spams = len([is_spam for _,is_spam in training_set if is_spam])\n",
    "        num_non_spam = len(training_set) - num_spams\n",
    "        \n",
    "        word_counts = count_words(training_set)\n",
    "        self.wordprobs = word_probabilities(word_counts,num_spams,num_non_spam,self.k)\n",
    "    def classify(self, msg):\n",
    "        return spam_probability(self.wordprobs,msg)"
   ]
  },
  {
   "cell_type": "markdown",
   "metadata": {},
   "source": [
    "## Now we need to test our model\n",
    "For testing we will be using [the SpamAssassin public corpus data](https://spamassassin.apache.org/old/publiccorpus/)\n",
    "Please download below 3 files, (already downloaded here in data folder)\n",
    ">- [20021010_easy_ham](https://spamassassin.apache.org/old/publiccorpus/20021010_easy_ham.tar.bz2)\n",
    ">- [20021010_hard_ham](https://spamassassin.apache.org/old/publiccorpus/20021010_hard_ham.tar.bz2)\n",
    ">- [20021010_spam](https://spamassassin.apache.org/old/publiccorpus/20021010_spam.tar.bz2)"
   ]
  },
  {
   "cell_type": "code",
   "execution_count": 62,
   "metadata": {},
   "outputs": [],
   "source": [
    "path = r\".\\data\\public_corpus\\*\\*\"\n",
    "data = []\n",
    "for fileName in glob.glob(path):\n",
    "    is_spam = \"ham\" not in fileName\n",
    "    #print(fileName)\n",
    "    with open(fileName,'r') as file:\n",
    "        try:\n",
    "            for line in file:\n",
    "                #print(line)\n",
    "                if line.startswith(\"Subject:\"):\n",
    "                    subject = re.sub(r\"^Subject: \",\"\",line).strip()\n",
    "                    data.append((subject,is_spam))\n",
    "        except:\n",
    "            pass\n"
   ]
  },
  {
   "cell_type": "code",
   "execution_count": 63,
   "metadata": {},
   "outputs": [],
   "source": [
    "# print(data)\n",
    "random.seed(0) # put according to your wish\n",
    "train_data,test_data = split_data(data,0.75)\n"
   ]
  },
  {
   "cell_type": "markdown",
   "metadata": {},
   "source": [
    "### Training"
   ]
  },
  {
   "cell_type": "code",
   "execution_count": 64,
   "metadata": {},
   "outputs": [],
   "source": [
    "classifier = NaiveBayesClassifier()\n",
    "classifier.train(train_data)"
   ]
  },
  {
   "cell_type": "markdown",
   "metadata": {},
   "source": [
    "### Testing"
   ]
  },
  {
   "cell_type": "code",
   "execution_count": 67,
   "metadata": {},
   "outputs": [
    {
     "name": "stdout",
     "output_type": "stream",
     "text": [
      "Counter({(False, False): 711, (True, True): 89, (True, False): 49, (False, True): 26})\n"
     ]
    }
   ],
   "source": [
    "classified = [(subject,is_spam,classifier.classify(subject))\n",
    "             for subject,is_spam in test_data]\n",
    "# print(classified)\n",
    "counts = Counter((is_spam,spam_probability > 0.5)\n",
    "                for _,is_spam,spam_probability in classified)\n",
    "print(counts)"
   ]
  },
  {
   "cell_type": "code",
   "execution_count": 76,
   "metadata": {},
   "outputs": [],
   "source": [
    "TP = counts[(True, True)]\n",
    "TN = counts[(False, False)]\n",
    "FP = counts[(False, True)]\n",
    "FN = counts[(True, False)]\n",
    "precission = TP/(TP+FP)\n",
    "recall = TP/(TP+FN)\n",
    "f1 = 2*precission*recall / (precission+recall)"
   ]
  },
  {
   "cell_type": "code",
   "execution_count": 78,
   "metadata": {},
   "outputs": [
    {
     "name": "stdout",
     "output_type": "stream",
     "text": [
      "89 711 26 49\n"
     ]
    }
   ],
   "source": [
    "\n",
    "print(TP,TN,FP,FN)"
   ]
  },
  {
   "cell_type": "code",
   "execution_count": null,
   "metadata": {},
   "outputs": [],
   "source": []
  }
 ],
 "metadata": {
  "kernelspec": {
   "display_name": "Python 3",
   "language": "python",
   "name": "python3"
  },
  "language_info": {
   "codemirror_mode": {
    "name": "ipython",
    "version": 3
   },
   "file_extension": ".py",
   "mimetype": "text/x-python",
   "name": "python",
   "nbconvert_exporter": "python",
   "pygments_lexer": "ipython3",
   "version": "3.7.2"
  }
 },
 "nbformat": 4,
 "nbformat_minor": 2
}
