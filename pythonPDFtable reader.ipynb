{
 "cells": [
  {
   "cell_type": "markdown",
   "metadata": {},
   "source": [
    "# PDF Reader"
   ]
  },
  {
   "cell_type": "code",
   "execution_count": 29,
   "metadata": {},
   "outputs": [],
   "source": [
    "#imports\n",
    "from __future__ import division\n",
    "import math\n",
    "import pandas as pd\n",
    "import tabula"
   ]
  },
  {
   "cell_type": "code",
   "execution_count": 30,
   "metadata": {},
   "outputs": [
    {
     "name": "stdout",
     "output_type": "stream",
     "text": [
      "         0                                                  1   \\\n",
      "0  2”-21/4”                           2.35 - 2.63\\r2.62 - 2.87   \n",
      "1     21/2”                           2.75 - 3.00\\r2.87 - 3.12   \n",
      "2        3”                           3.45 - 3.70\\r3.75 - 4.00   \n",
      "3     31/2”                                        3.95 - 4.20   \n",
      "4        4”  4.45 - 4.85\\r4.74 - 5.14\\r4.95 - 5.35\\r5.20 - ...   \n",
      "5        6”  5.95 - 6.35\\r6.60 - 7.00\\r6.84 - 7.24\\r7.06 - ...   \n",
      "6        8”  7.95 - 8.35\\r8.60 - 9.00\\r9.00 - 9.40\\r9.30 - ...   \n",
      "7       10”  9.95 - 10.35\\r10.70 - 11.10\\r11.04 - 11.44\\r11...   \n",
      "\n",
      "                                                  2           3            4   \\\n",
      "0       SS1 - 2.63 x length 1\\rSS1 - 2.87 x length 1  $91.11\\r4#  $124.22\\r4#   \n",
      "1       SS1 - 3.00 x length 1\\rSS1 - 3.12 x length 1   94.70\\r4#   129.13\\r4#   \n",
      "2       SS1 - 3.70 x length 1\\rSS1 - 4.00 x length 1  109.66\\r4#   135.53\\r5#   \n",
      "3                              SS1 - 4.20 x length 1  115.20\\r5#   135.53\\r5#   \n",
      "4  SS1 - 4.85 x length\\rSS1 - 5.14 x length\\rSS1 ...  122.50\\r5#   152.86\\r5#   \n",
      "5  SS1 - 6.35 x length\\rSS1 - 7.00 x length\\rSS1 ...  152.48\\r6#   182.92\\r7#   \n",
      "6  SS1 - 8.35 x length\\rSS1 - 9.00 x length\\rSS1 ...  179.13\\r7#   214.34\\r8#   \n",
      "7  SS1-10.35 x length\\rSS1-11.10 x length\\rSS1-11...  234.98\\r9#  285.61\\r11#   \n",
      "\n",
      "            5            6            7             8            9   \\\n",
      "0  $172.85\\r5#  $206.65\\r5#  $222.51\\r8#  $251.22\\r11#        N/  A   \n",
      "1   179.10\\r5#   211.48\\r6#   229.13\\r8#   277.45\\r11#         N/ A   \n",
      "2   187.30\\r5#   219.49\\r6#   247.81\\r9#   317.95\\r12#        N/  A   \n",
      "3   187.30\\r6#   230.71\\r7#   258.22\\r9#   335.94\\r13#  421.91\\r15#   \n",
      "4   208.28\\r7#   242.81\\r8#  269.98\\r10#   409.45\\r14#  549.27\\r16#   \n",
      "5   247.81\\r9#  292.07\\r10#  322.13\\r14#   485.91\\r17#  611.47\\r21#   \n",
      "6  283.91\\r11#  343.99\\r12#  393.09\\r15#   556.88\\r19#  693.35\\r24#   \n",
      "7  375.74\\r14#  448.13\\r16#  514.90\\r24#   687.53\\r28#  854.45\\r32#   \n",
      "\n",
      "             10  \n",
      "0           NaN  \n",
      "1           NaN  \n",
      "2          N/ A  \n",
      "3           NaN  \n",
      "4   670.07\\r21#  \n",
      "5   796.11\\r26#  \n",
      "6   914.11\\r30#  \n",
      "7  1,168.9\\r42#  \n"
     ]
    }
   ],
   "source": [
    "path = './data/dataTable.pdf'\n",
    "df = tabula.read_pdf(path,  spreadsheet=True, area=[292, 35, 291+362, 519+35],pandas_options={'header': None})\n",
    "print(df)"
   ]
  },
  {
   "cell_type": "code",
   "execution_count": null,
   "metadata": {},
   "outputs": [],
   "source": []
  }
 ],
 "metadata": {
  "kernelspec": {
   "display_name": "Python 3",
   "language": "python",
   "name": "python3"
  },
  "language_info": {
   "codemirror_mode": {
    "name": "ipython",
    "version": 3
   },
   "file_extension": ".py",
   "mimetype": "text/x-python",
   "name": "python",
   "nbconvert_exporter": "python",
   "pygments_lexer": "ipython3",
   "version": "3.7.2"
  }
 },
 "nbformat": 4,
 "nbformat_minor": 2
}
