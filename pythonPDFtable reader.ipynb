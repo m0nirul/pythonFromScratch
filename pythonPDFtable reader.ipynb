{
 "cells": [
  {
   "cell_type": "markdown",
   "metadata": {},
   "source": [
    "# PDF Reader"
   ]
  },
  {
   "cell_type": "code",
   "execution_count": 3,
   "metadata": {},
   "outputs": [],
   "source": [
    "#imports\n",
    "from __future__ import division\n",
    "import math\n",
    "import pandas as pd\n",
    "import tabula"
   ]
  },
  {
   "cell_type": "code",
   "execution_count": 19,
   "metadata": {},
   "outputs": [],
   "source": [
    "path = './data/dataTable.pdf'\n",
    "df = tabula.read_pdf(path)"
   ]
  },
  {
   "cell_type": "code",
   "execution_count": 20,
   "metadata": {},
   "outputs": [
    {
     "name": "stdout",
     "output_type": "stream",
     "text": [
      "                 7.0N6O - M7..4 6 O.D. SIZE  \\\n",
      "0                7P.I4P0E - S 7IZ.8E0 RANGE   \n",
      "1          2”-21/4” 2.35 - 2.63 2.62 - 2.87   \n",
      "2             21/2” 2.75 - 3.00 2.87 - 3.12   \n",
      "3                3” 3.45 - 3.70 3.75 - 4.00   \n",
      "4                         31/2” 3.95 - 4.20   \n",
      "5                               4.45 - 4.85   \n",
      "6                4” 4.74 - 5.14 4.95 - 5.35   \n",
      "7                               5.20 - 5.60   \n",
      "8                               5.95 - 6.35   \n",
      "9                               6.60 - 7.00   \n",
      "10                           6” 6.84 - 7.24   \n",
      "11                              7.06 - 7.46   \n",
      "12                              7.40 - 7.80   \n",
      "13                              7.95 - 8.35   \n",
      "14               8” 8.60 - 9.00 9.00 - 9.40   \n",
      "15                              9.30 - 9.70   \n",
      "16                                      NaN   \n",
      "17                             9.95 - 10.35   \n",
      "18                            10.70 - 11.10   \n",
      "19  1,168.9310” 11.04 - 11.44 11.40 - 11.80   \n",
      "20                            11.60 - 12.00   \n",
      "21                            11.85 - 12.25   \n",
      "22                            12.10 - 12.50   \n",
      "23          12” 12.70 - 13.10 13.15 - 13.55   \n",
      "24                            13.60 - 14.00   \n",
      "25                            14.10 - 14.50   \n",
      "\n",
      "                                      Unnamed: 1  Unnamed: 2  Unnamed: 3  \\\n",
      "0                                 CATALOG NUMBER          6\"          8\"   \n",
      "1    SS1 - 2.63 x length 1 SS1 - 2.87 x length 1   $91.11 4#  $124.22 4#   \n",
      "2    SS1 - 3.00 x length 1 SS1 - 3.12 x length 1    94.70 4#   129.13 4#   \n",
      "3   SS1 - 3.70 x length 1 S S1 - 4.00 x length 1   109.66 4#   135.53 5#   \n",
      "4                          SS1 - 4.20 x length 1   115.20 5#   135.53 5#   \n",
      "5                            SS1 - 4.85 x length         NaN         NaN   \n",
      "6        SS1 - 5.14 x length SS1 - 5.35 x length   122.50 5#   152.86 5#   \n",
      "7                            SS1 - 5.60 x length         NaN         NaN   \n",
      "8                            SS1 - 6.35 x length         NaN         NaN   \n",
      "9                            SS1 - 7.00 x length         NaN         NaN   \n",
      "10                           SS1 - 7.24 x length      152.48      182.92   \n",
      "11                           SS1 - 7.46 x length          6#          7#   \n",
      "12                           SS1 - 7.80 x length         NaN         NaN   \n",
      "13                           SS1 - 8.35 x length         NaN         NaN   \n",
      "14       SS1 - 9.00 x length SS1 - 9.40 x length   179.13 7#   214.34 8#   \n",
      "15                           SS1 - 9.70 x length         NaN         NaN   \n",
      "16                                           NaN         NaN         NaN   \n",
      "17                            SS1-10.35 x length         NaN         NaN   \n",
      "18                            SS1-11.10 x length         NaN         NaN   \n",
      "19         SS1-11.44 x length SS1-11.80 x length   234.98 9#  285.61 11#   \n",
      "20                            SS1-12.00 x length         NaN         NaN   \n",
      "21                            SS1-12.25 x length         NaN         NaN   \n",
      "22                            SS1-12.50 x length         NaN         NaN   \n",
      "23         SS1-13.10 x length SS1-13.55 x length  274.28 11#  324.27 13#   \n",
      "24                            SS1-14.00 x length         NaN         NaN   \n",
      "25                            SS1-14.50 x length         NaN         NaN   \n",
      "\n",
      "                 LELNENGGTHTH / / W  WEIEGIGHHTT  Unnamed: 5  Unnamed: 6  \\\n",
      "0                                10\" 12\" 16\" 20\"         NaN         24\"   \n",
      "1   $172.85 5# $206.65 5# $222.51 8# $251.22 11#         NaN        N/ A   \n",
      "2        179.10 5# 211.48 6# 229.13 8# 277.4511#         NaN        N/ A   \n",
      "3       187.30 5# 219.49 6# 247.81 9# 317.95 12#         NaN        N/ A   \n",
      "4       187.30 6# 230.71 7# 258.22 9# 335.94 13#         NaN   421.9115#   \n",
      "5                                            NaN         NaN         NaN   \n",
      "6      208.28 7# 242.81 8# 269.98 10# 409.45 14#         NaN  549.27 16#   \n",
      "7                                            NaN         NaN         NaN   \n",
      "8                                            NaN         NaN         NaN   \n",
      "9                                            NaN         NaN         NaN   \n",
      "10                   247.81 292.07 322.13 485.91         NaN      611.47   \n",
      "11                                9# 10# 14# 17#         NaN         21#   \n",
      "12                                           NaN         NaN         NaN   \n",
      "13                                           NaN         NaN         NaN   \n",
      "14   283.91 11# 343.99 12# 393.09 15# 556.88 19#         NaN  693.35 24#   \n",
      "15                                           NaN         NaN         NaN   \n",
      "16                                           NaN         NaN         NaN   \n",
      "17                                           NaN         NaN         NaN   \n",
      "18                                           NaN         NaN         NaN   \n",
      "19   375.74 14# 448.13 16# 514.90 24# 687.53 28#         NaN  854.45 32#   \n",
      "20                                           NaN         NaN         NaN   \n",
      "21                                           NaN         NaN         NaN   \n",
      "22                                           NaN         NaN         NaN   \n",
      "23   430.03 16# 519.35 18# 587.27 27# 815.56 30#         NaN  968.60 36#   \n",
      "24                                           NaN         NaN         NaN   \n",
      "25                                           NaN         NaN         NaN   \n",
      "\n",
      "     Unnamed: 7  \n",
      "0           30\"  \n",
      "1           NaN  \n",
      "2           NaN  \n",
      "3           NaN  \n",
      "4           NaN  \n",
      "5           NaN  \n",
      "6     670.0721#  \n",
      "7           NaN  \n",
      "8           NaN  \n",
      "9           NaN  \n",
      "10       796.11  \n",
      "11          26#  \n",
      "12          NaN  \n",
      "13          NaN  \n",
      "14    914.1130#  \n",
      "15          NaN  \n",
      "16          NaN  \n",
      "17          NaN  \n",
      "18          NaN  \n",
      "19          42#  \n",
      "20          NaN  \n",
      "21          NaN  \n",
      "22          NaN  \n",
      "23  1,382.5146#  \n",
      "24          NaN  \n",
      "25          NaN  \n"
     ]
    }
   ],
   "source": [
    "print(df)"
   ]
  },
  {
   "cell_type": "code",
   "execution_count": null,
   "metadata": {},
   "outputs": [],
   "source": []
  }
 ],
 "metadata": {
  "kernelspec": {
   "display_name": "Python 3",
   "language": "python",
   "name": "python3"
  },
  "language_info": {
   "codemirror_mode": {
    "name": "ipython",
    "version": 3
   },
   "file_extension": ".py",
   "mimetype": "text/x-python",
   "name": "python",
   "nbconvert_exporter": "python",
   "pygments_lexer": "ipython3",
   "version": "3.7.2"
  }
 },
 "nbformat": 4,
 "nbformat_minor": 2
}
